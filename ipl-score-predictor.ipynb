{
  "nbformat": 4,
  "nbformat_minor": 0,
  "metadata": {
    "colab": {
      "name": "css_assignment_ML.ipynb",
      "provenance": []
    },
    "kernelspec": {
      "name": "python3",
      "display_name": "Python 3"
    },
    "language_info": {
      "name": "python"
    }
  },
  "cells": [
    {
      "cell_type": "markdown",
      "metadata": {
        "id": "XOHLHQAO_9ST"
      },
      "source": [
        "Assignment: Problem Statement – Machine Learning"
      ]
    },
    {
      "cell_type": "markdown",
      "metadata": {
        "id": "1Q-UdK6KAHwR"
      },
      "source": [
        "predicting the IPL score after 6 overs"
      ]
    },
    {
      "cell_type": "code",
      "metadata": {
        "id": "fafxInho42qs"
      },
      "source": [
        "#reading the dataset\n",
        "import pandas as pd\n",
        "df = pd.read_csv('IPL DATASET.csv')"
      ],
      "execution_count": 1,
      "outputs": []
    },
    {
      "cell_type": "markdown",
      "metadata": {
        "id": "pCJzxrTR_7fy"
      },
      "source": [
        ""
      ]
    },
    {
      "cell_type": "markdown",
      "metadata": {
        "id": "yCyEZy6E_44b"
      },
      "source": [
        ""
      ]
    },
    {
      "cell_type": "code",
      "metadata": {
        "id": "wm0GXQP3C1kM"
      },
      "source": [
        "df= df.rename(columns={df.columns[0]: 'ID'})"
      ],
      "execution_count": 2,
      "outputs": []
    },
    {
      "cell_type": "code",
      "metadata": {
        "colab": {
          "base_uri": "https://localhost:8080/"
        },
        "id": "9DjH1S10CToG",
        "outputId": "e7a72287-0fc7-4605-ac34-dbf126eee360"
      },
      "source": [
        "df.info()"
      ],
      "execution_count": 3,
      "outputs": [
        {
          "output_type": "stream",
          "text": [
            "<class 'pandas.core.frame.DataFrame'>\n",
            "RangeIndex: 1663 entries, 0 to 1662\n",
            "Data columns (total 19 columns):\n",
            " #   Column                      Non-Null Count  Dtype  \n",
            "---  ------                      --------------  -----  \n",
            " 0   ID                          1663 non-null   int64  \n",
            " 1   venue_boundaries            1663 non-null   int64  \n",
            " 2   venue_highest_runs          1663 non-null   int64  \n",
            " 3   venue_boundaries_first_six  1663 non-null   int64  \n",
            " 4   venue_avg_wicket            1663 non-null   int64  \n",
            " 5   SR                          1663 non-null   float64\n",
            " 6   avg                         1663 non-null   float64\n",
            " 7   batting_team                1663 non-null   object \n",
            " 8   bowling_team                1663 non-null   object \n",
            " 9   BF                          1663 non-null   float64\n",
            " 10  runs                        1663 non-null   float64\n",
            " 11  _4s                         1663 non-null   float64\n",
            " 12  _6s                         1663 non-null   float64\n",
            " 13  _30s                        1663 non-null   float64\n",
            " 14  _50s                        1663 non-null   float64\n",
            " 15  economy                     1663 non-null   float64\n",
            " 16  wickets                     1663 non-null   float64\n",
            " 17  innings                     1663 non-null   int64  \n",
            " 18  runs_after_6ovs             1663 non-null   int64  \n",
            "dtypes: float64(10), int64(7), object(2)\n",
            "memory usage: 247.0+ KB\n"
          ],
          "name": "stdout"
        }
      ]
    },
    {
      "cell_type": "code",
      "metadata": {
        "colab": {
          "base_uri": "https://localhost:8080/",
          "height": 315
        },
        "id": "FhYzOf8S8Xbv",
        "outputId": "9e133128-d5fa-433f-abba-06efc86ff8a6"
      },
      "source": [
        "df.describe()"
      ],
      "execution_count": 4,
      "outputs": [
        {
          "output_type": "execute_result",
          "data": {
            "text/html": [
              "<div>\n",
              "<style scoped>\n",
              "    .dataframe tbody tr th:only-of-type {\n",
              "        vertical-align: middle;\n",
              "    }\n",
              "\n",
              "    .dataframe tbody tr th {\n",
              "        vertical-align: top;\n",
              "    }\n",
              "\n",
              "    .dataframe thead th {\n",
              "        text-align: right;\n",
              "    }\n",
              "</style>\n",
              "<table border=\"1\" class=\"dataframe\">\n",
              "  <thead>\n",
              "    <tr style=\"text-align: right;\">\n",
              "      <th></th>\n",
              "      <th>ID</th>\n",
              "      <th>venue_boundaries</th>\n",
              "      <th>venue_highest_runs</th>\n",
              "      <th>venue_boundaries_first_six</th>\n",
              "      <th>venue_avg_wicket</th>\n",
              "      <th>SR</th>\n",
              "      <th>avg</th>\n",
              "      <th>BF</th>\n",
              "      <th>runs</th>\n",
              "      <th>_4s</th>\n",
              "      <th>_6s</th>\n",
              "      <th>_30s</th>\n",
              "      <th>_50s</th>\n",
              "      <th>economy</th>\n",
              "      <th>wickets</th>\n",
              "      <th>innings</th>\n",
              "      <th>runs_after_6ovs</th>\n",
              "    </tr>\n",
              "  </thead>\n",
              "  <tbody>\n",
              "    <tr>\n",
              "      <th>count</th>\n",
              "      <td>1663.000000</td>\n",
              "      <td>1663.000000</td>\n",
              "      <td>1663.000000</td>\n",
              "      <td>1663.000000</td>\n",
              "      <td>1663.000000</td>\n",
              "      <td>1663.000000</td>\n",
              "      <td>1663.000000</td>\n",
              "      <td>1663.000000</td>\n",
              "      <td>1663.000000</td>\n",
              "      <td>1663.000000</td>\n",
              "      <td>1663.000000</td>\n",
              "      <td>1663.000000</td>\n",
              "      <td>1663.000000</td>\n",
              "      <td>1663.000000</td>\n",
              "      <td>1663.000000</td>\n",
              "      <td>1663.000000</td>\n",
              "      <td>1663.000000</td>\n",
              "    </tr>\n",
              "    <tr>\n",
              "      <th>mean</th>\n",
              "      <td>831.000000</td>\n",
              "      <td>43.382441</td>\n",
              "      <td>221.741431</td>\n",
              "      <td>25.955502</td>\n",
              "      <td>5.148527</td>\n",
              "      <td>1.256342</td>\n",
              "      <td>26.595947</td>\n",
              "      <td>2003.094193</td>\n",
              "      <td>2532.018258</td>\n",
              "      <td>249.008548</td>\n",
              "      <td>88.697376</td>\n",
              "      <td>93.585195</td>\n",
              "      <td>93.585195</td>\n",
              "      <td>7.727169</td>\n",
              "      <td>76.502566</td>\n",
              "      <td>1.535177</td>\n",
              "      <td>45.207456</td>\n",
              "    </tr>\n",
              "    <tr>\n",
              "      <th>std</th>\n",
              "      <td>480.211065</td>\n",
              "      <td>22.008378</td>\n",
              "      <td>23.820160</td>\n",
              "      <td>13.603919</td>\n",
              "      <td>0.415055</td>\n",
              "      <td>0.066862</td>\n",
              "      <td>3.346851</td>\n",
              "      <td>773.763725</td>\n",
              "      <td>1019.352004</td>\n",
              "      <td>99.380153</td>\n",
              "      <td>47.252825</td>\n",
              "      <td>32.158176</td>\n",
              "      <td>32.158176</td>\n",
              "      <td>0.358505</td>\n",
              "      <td>29.394384</td>\n",
              "      <td>0.575101</td>\n",
              "      <td>12.781027</td>\n",
              "    </tr>\n",
              "    <tr>\n",
              "      <th>min</th>\n",
              "      <td>0.000000</td>\n",
              "      <td>18.000000</td>\n",
              "      <td>161.000000</td>\n",
              "      <td>12.000000</td>\n",
              "      <td>4.000000</td>\n",
              "      <td>0.984000</td>\n",
              "      <td>15.461538</td>\n",
              "      <td>125.000000</td>\n",
              "      <td>123.000000</td>\n",
              "      <td>18.500000</td>\n",
              "      <td>1.000000</td>\n",
              "      <td>6.500000</td>\n",
              "      <td>6.500000</td>\n",
              "      <td>6.342970</td>\n",
              "      <td>9.750000</td>\n",
              "      <td>1.000000</td>\n",
              "      <td>2.000000</td>\n",
              "    </tr>\n",
              "    <tr>\n",
              "      <th>25%</th>\n",
              "      <td>415.500000</td>\n",
              "      <td>30.000000</td>\n",
              "      <td>205.000000</td>\n",
              "      <td>18.000000</td>\n",
              "      <td>5.000000</td>\n",
              "      <td>1.216349</td>\n",
              "      <td>24.552083</td>\n",
              "      <td>1445.375000</td>\n",
              "      <td>1839.500000</td>\n",
              "      <td>179.500000</td>\n",
              "      <td>56.550000</td>\n",
              "      <td>72.666667</td>\n",
              "      <td>72.666667</td>\n",
              "      <td>7.479497</td>\n",
              "      <td>55.666667</td>\n",
              "      <td>1.000000</td>\n",
              "      <td>37.000000</td>\n",
              "    </tr>\n",
              "    <tr>\n",
              "      <th>50%</th>\n",
              "      <td>831.000000</td>\n",
              "      <td>32.000000</td>\n",
              "      <td>231.000000</td>\n",
              "      <td>19.000000</td>\n",
              "      <td>5.000000</td>\n",
              "      <td>1.258283</td>\n",
              "      <td>26.413223</td>\n",
              "      <td>1991.000000</td>\n",
              "      <td>2474.250000</td>\n",
              "      <td>243.000000</td>\n",
              "      <td>80.500000</td>\n",
              "      <td>93.000000</td>\n",
              "      <td>93.000000</td>\n",
              "      <td>7.715340</td>\n",
              "      <td>74.000000</td>\n",
              "      <td>2.000000</td>\n",
              "      <td>45.000000</td>\n",
              "    </tr>\n",
              "    <tr>\n",
              "      <th>75%</th>\n",
              "      <td>1246.500000</td>\n",
              "      <td>63.000000</td>\n",
              "      <td>232.000000</td>\n",
              "      <td>38.000000</td>\n",
              "      <td>5.000000</td>\n",
              "      <td>1.298706</td>\n",
              "      <td>28.367922</td>\n",
              "      <td>2507.500000</td>\n",
              "      <td>3176.250000</td>\n",
              "      <td>311.100000</td>\n",
              "      <td>111.000000</td>\n",
              "      <td>115.500000</td>\n",
              "      <td>115.500000</td>\n",
              "      <td>7.953636</td>\n",
              "      <td>95.500000</td>\n",
              "      <td>2.000000</td>\n",
              "      <td>53.000000</td>\n",
              "    </tr>\n",
              "    <tr>\n",
              "      <th>max</th>\n",
              "      <td>1662.000000</td>\n",
              "      <td>93.000000</td>\n",
              "      <td>263.000000</td>\n",
              "      <td>61.000000</td>\n",
              "      <td>7.000000</td>\n",
              "      <td>1.456687</td>\n",
              "      <td>36.981818</td>\n",
              "      <td>4057.500000</td>\n",
              "      <td>5418.500000</td>\n",
              "      <td>555.500000</td>\n",
              "      <td>295.000000</td>\n",
              "      <td>171.000000</td>\n",
              "      <td>171.000000</td>\n",
              "      <td>8.950355</td>\n",
              "      <td>172.000000</td>\n",
              "      <td>6.000000</td>\n",
              "      <td>105.000000</td>\n",
              "    </tr>\n",
              "  </tbody>\n",
              "</table>\n",
              "</div>"
            ],
            "text/plain": [
              "                ID  venue_boundaries  ...      innings  runs_after_6ovs\n",
              "count  1663.000000       1663.000000  ...  1663.000000      1663.000000\n",
              "mean    831.000000         43.382441  ...     1.535177        45.207456\n",
              "std     480.211065         22.008378  ...     0.575101        12.781027\n",
              "min       0.000000         18.000000  ...     1.000000         2.000000\n",
              "25%     415.500000         30.000000  ...     1.000000        37.000000\n",
              "50%     831.000000         32.000000  ...     2.000000        45.000000\n",
              "75%    1246.500000         63.000000  ...     2.000000        53.000000\n",
              "max    1662.000000         93.000000  ...     6.000000       105.000000\n",
              "\n",
              "[8 rows x 17 columns]"
            ]
          },
          "metadata": {
            "tags": []
          },
          "execution_count": 4
        }
      ]
    },
    {
      "cell_type": "code",
      "metadata": {
        "colab": {
          "base_uri": "https://localhost:8080/"
        },
        "id": "SIR5vZIR8ZjU",
        "outputId": "1a3e0c68-565b-4a2f-e531-2c7726a40984"
      },
      "source": [
        "df.isnull().sum()"
      ],
      "execution_count": 5,
      "outputs": [
        {
          "output_type": "execute_result",
          "data": {
            "text/plain": [
              "ID                            0\n",
              "venue_boundaries              0\n",
              "venue_highest_runs            0\n",
              "venue_boundaries_first_six    0\n",
              "venue_avg_wicket              0\n",
              "SR                            0\n",
              "avg                           0\n",
              "batting_team                  0\n",
              "bowling_team                  0\n",
              "BF                            0\n",
              "runs                          0\n",
              "_4s                           0\n",
              "_6s                           0\n",
              "_30s                          0\n",
              "_50s                          0\n",
              "economy                       0\n",
              "wickets                       0\n",
              "innings                       0\n",
              "runs_after_6ovs               0\n",
              "dtype: int64"
            ]
          },
          "metadata": {
            "tags": []
          },
          "execution_count": 5
        }
      ]
    },
    {
      "cell_type": "code",
      "metadata": {
        "colab": {
          "base_uri": "https://localhost:8080/",
          "height": 843
        },
        "id": "CPx1uEFd8don",
        "outputId": "820d2da2-57df-4b96-b62d-2f7f455d4f2c"
      },
      "source": [
        "#visualizing the data distribution through histograms\n",
        "import matplotlib.pyplot as plt\n",
        "df.hist(bins=50, figsize=(20,15))\n",
        "plt.show()"
      ],
      "execution_count": 6,
      "outputs": [
        {
          "output_type": "display_data",
          "data": {
            "image/png": "[encoded data removed]",
            "text/plain": [
              "<Figure size 1440x1080 with 20 Axes>"
            ]
          },
          "metadata": {
            "tags": [],
            "needs_background": "light"
          }
        }
      ]
    },
    {
      "cell_type": "code",
      "metadata": {
        "colab": {
          "base_uri": "https://localhost:8080/"
        },
        "id": "hVYdn4dNNvzo",
        "outputId": "b2cf8964-c956-46e4-acc9-69b4f8dead96"
      },
      "source": [
        "#label encoding for nominal data (batting_team, bowling team)\n",
        "\n",
        "# Import label encoder \n",
        "from sklearn import preprocessing\n",
        "# label_encoder object knows how to understand word labels. \n",
        "label_encoder = preprocessing.LabelEncoder()\n",
        "# Encode labels in column 'Country'. \n",
        "df['ball_team']= label_encoder.fit_transform(df['bowling_team' ]) \n",
        "df['bat_team']= label_encoder.fit_transform(df['batting_team' ]) \n",
        "\n",
        "print(df.head())"
      ],
      "execution_count": 7,
      "outputs": [
        {
          "output_type": "stream",
          "text": [
            "   ID  venue_boundaries  ...  ball_team  bat_team\n",
            "0   0                74  ...         13         7\n",
            "1   1                74  ...          7        13\n",
            "2   2                30  ...          5         0\n",
            "3   3                30  ...          0         5\n",
            "4   4                32  ...          3        10\n",
            "\n",
            "[5 rows x 21 columns]\n"
          ],
          "name": "stdout"
        }
      ]
    },
    {
      "cell_type": "code",
      "metadata": {
        "id": "CDnSRlNZEcTn"
      },
      "source": [
        "# dropping out the categorical columns\n",
        "df=df.drop([\"batting_team\", \"bowling_team\"], axis = 1)"
      ],
      "execution_count": 8,
      "outputs": []
    },
    {
      "cell_type": "code",
      "metadata": {
        "colab": {
          "base_uri": "https://localhost:8080/"
        },
        "id": "13iWwjIpNRfO",
        "outputId": "04f9f165-7e33-4d66-c619-626e9178d206"
      },
      "source": [
        "# normalizing the data towards mean\n",
        "from sklearn.preprocessing import MinMaxScaler\n",
        "scaler=MinMaxScaler()\n",
        "feature_scale=[feature for feature in df.columns if feature not in ['ID','runs_after_6ovs']]\n",
        "\n",
        "feature_scale=['venue_boundaries', 'venue_highest_runs',\n",
        "       'venue_boundaries_first_six', 'venue_avg_wicket', 'SR', 'avg',\n",
        "       'bat_team', 'ball_team', 'BF', 'runs', '_4s', '_6s', '_30s',\n",
        "       '_50s', 'economy', 'wickets', 'innings']\n",
        "scaler.fit(df[feature_scale])"
      ],
      "execution_count": 9,
      "outputs": [
        {
          "output_type": "execute_result",
          "data": {
            "text/plain": [
              "MinMaxScaler(copy=True, feature_range=(0, 1))"
            ]
          },
          "metadata": {
            "tags": []
          },
          "execution_count": 9
        }
      ]
    },
    {
      "cell_type": "code",
      "metadata": {
        "id": "HzD2OBgWeyIC",
        "colab": {
          "base_uri": "https://localhost:8080/"
        },
        "outputId": "c45bd39c-f69b-410a-f399-fca90a900080"
      },
      "source": [
        "from scipy.stats import zscore\n",
        "z_scores = zscore(df)\n",
        "z_scores"
      ],
      "execution_count": 10,
      "outputs": [
        {
          "output_type": "execute_result",
          "data": {
            "text/plain": [
              "array([[-1.7310096 ,  1.3915959 ,  1.73260716, ...,  1.23599567,\n",
              "         1.37174692,  0.00411673],\n",
              "       [-1.72892655,  1.3915959 ,  1.73260716, ..., -1.50326214,\n",
              "         0.00274404,  1.37334039],\n",
              "       [-1.72684351, -0.60824414, -0.36708656, ...,  0.6098796 ,\n",
              "        -0.45359025, -1.59331087],\n",
              "       ...,\n",
              "       [ 1.72684351,  0.80073407,  0.55677868, ..., -0.95541058,\n",
              "        -1.13809169, -1.59331087],\n",
              "       [ 1.72892655,  0.80073407,  0.55677868, ...,  1.54905371,\n",
              "        -1.59442598, -1.13690299],\n",
              "       [ 1.7310096 ,  2.25516319,  1.01871129, ...,  0.37508607,\n",
              "         1.59991407,  0.00411673]])"
            ]
          },
          "metadata": {
            "tags": []
          },
          "execution_count": 10
        }
      ]
    },
    {
      "cell_type": "code",
      "metadata": {
        "id": "GmtQjiDBk0tU"
      },
      "source": [
        "# import numpy as np\n",
        "# # abs_z_scores = np.abs(z_scores)\n",
        "# # filtered_entries = (abs_z_scores < 3).all(axis=1)\n",
        "# # new_df = df[filtered_entries]"
      ],
      "execution_count": 11,
      "outputs": []
    },
    {
      "cell_type": "code",
      "metadata": {
        "colab": {
          "base_uri": "https://localhost:8080/",
          "height": 283
        },
        "id": "-WApOQs0k0zz",
        "outputId": "39f1c4d0-00a1-4565-a5c4-ca184c2f5940"
      },
      "source": [
        "# checking for the outliers\n",
        "df.boxplot()"
      ],
      "execution_count": 12,
      "outputs": [
        {
          "output_type": "execute_result",
          "data": {
            "text/plain": [
              "<matplotlib.axes._subplots.AxesSubplot at 0x7fc4ba701ad0>"
            ]
          },
          "metadata": {
            "tags": []
          },
          "execution_count": 12
        },
        {
          "output_type": "display_data",
          "data": {
            "image/png": "[encoded data removed]",
            "text/plain": [
              "<Figure size 432x288 with 1 Axes>"
            ]
          },
          "metadata": {
            "tags": [],
            "needs_background": "light"
          }
        }
      ]
    },
    {
      "cell_type": "code",
      "metadata": {
        "colab": {
          "base_uri": "https://localhost:8080/",
          "height": 1000
        },
        "id": "Qy4ceWQrk04y",
        "outputId": "7e203bbb-9072-4ad1-9080-36070c7d7f91"
      },
      "source": [
        "# checking for the outliers in each column\n",
        "import seaborn as sns\n",
        "for column in df.columns:\n",
        "  sns.boxplot(x=df[column])\n",
        "  plt.show()"
      ],
      "execution_count": 13,
      "outputs": [
        {
          "output_type": "display_data",
          "data": {
            "image/png": "[encoded data removed]",
            "text/plain": [
              "<Figure size 432x288 with 1 Axes>"
            ]
          },
          "metadata": {
            "tags": [],
            "needs_background": "light"
          }
        },
        {
          "output_type": "display_data",
          "data": {
            "image/png": "[encoded data removed]",
            "text/plain": [
              "<Figure size 432x288 with 1 Axes>"
            ]
          },
          "metadata": {
            "tags": [],
            "needs_background": "light"
          }
        },
        {
          "output_type": "display_data",
          "data": {
            "image/png": "[encoded data removed]",
            "text/plain": [
              "<Figure size 432x288 with 1 Axes>"
            ]
          },
          "metadata": {
            "tags": [],
            "needs_background": "light"
          }
        },
        {
          "output_type": "display_data",
          "data": {
            "image/png": "[encoded data removed]",
            "text/plain": [
              "<Figure size 432x288 with 1 Axes>"
            ]
          },
          "metadata": {
            "tags": [],
            "needs_background": "light"
          }
        },
        {
          "output_type": "display_data",
          "data": {
            "image/png": "[encoded data removed]",
            "text/plain": [
              "<Figure size 432x288 with 1 Axes>"
            ]
          },
          "metadata": {
            "tags": [],
            "needs_background": "light"
          }
        },
        {
          "output_type": "display_data",
          "data": {
            "image/png": "[encoded data removed]",
            "text/plain": [
              "<Figure size 432x288 with 1 Axes>"
            ]
          },
          "metadata": {
            "tags": [],
            "needs_background": "light"
          }
        },
        {
          "output_type": "display_data",
          "data": {
            "image/png": "[encoded data removed]",
            "text/plain": [
              "<Figure size 432x288 with 1 Axes>"
            ]
          },
          "metadata": {
            "tags": [],
            "needs_background": "light"
          }
        },
        {
          "output_type": "display_data",
          "data": {
            "image/png": "[encoded data removed]",
            "text/plain": [
              "<Figure size 432x288 with 1 Axes>"
            ]
          },
          "metadata": {
            "tags": [],
            "needs_background": "light"
          }
        },
        {
          "output_type": "display_data",
          "data": {
            "image/png": "[encoded data removed]",
            "text/plain": [
              "<Figure size 432x288 with 1 Axes>"
            ]
          },
          "metadata": {
            "tags": [],
            "needs_background": "light"
          }
        },
        {
          "output_type": "display_data",
          "data": {
            "image/png": "[encoded data removed]",
            "text/plain": [
              "<Figure size 432x288 with 1 Axes>"
            ]
          },
          "metadata": {
            "tags": [],
            "needs_background": "light"
          }
        },
        {
          "output_type": "display_data",
          "data": {
            "image/png": "[encoded data removed]",
            "text/plain": [
              "<Figure size 432x288 with 1 Axes>"
            ]
          },
          "metadata": {
            "tags": [],
            "needs_background": "light"
          }
        },
        {
          "output_type": "display_data",
          "data": {
            "image/png": "[encoded data removed]",
            "text/plain": [
              "<Figure size 432x288 with 1 Axes>"
            ]
          },
          "metadata": {
            "tags": [],
            "needs_background": "light"
          }
        },
        {
          "output_type": "display_data",
          "data": {
            "image/png": "[encoded data removed]",
            "text/plain": [
              "<Figure size 432x288 with 1 Axes>"
            ]
          },
          "metadata": {
            "tags": [],
            "needs_background": "light"
          }
        },
        {
          "output_type": "display_data",
          "data": {
            "image/png": "[encoded data removed]",
            "text/plain": [
              "<Figure size 432x288 with 1 Axes>"
            ]
          },
          "metadata": {
            "tags": [],
            "needs_background": "light"
          }
        },
        {
          "output_type": "display_data",
          "data": {
            "image/png": "[encoded data removed]",
            "text/plain": [
              "<Figure size 432x288 with 1 Axes>"
            ]
          },
          "metadata": {
            "tags": [],
            "needs_background": "light"
          }
        },
        {
          "output_type": "display_data",
          "data": {
            "image/png": "[encoded data removed]",
            "text/plain": [
              "<Figure size 432x288 with 1 Axes>"
            ]
          },
          "metadata": {
            "tags": [],
            "needs_background": "light"
          }
        },
        {
          "output_type": "display_data",
          "data": {
            "image/png": "[encoded data removed]",
            "text/plain": [
              "<Figure size 432x288 with 1 Axes>"
            ]
          },
          "metadata": {
            "tags": [],
            "needs_background": "light"
          }
        },
        {
          "output_type": "display_data",
          "data": {
            "image/png": "[encoded data removed]",
            "text/plain": [
              "<Figure size 432x288 with 1 Axes>"
            ]
          },
          "metadata": {
            "tags": [],
            "needs_background": "light"
          }
        },
        {
          "output_type": "display_data",
          "data": {
            "image/png": "[encoded data removed]",
            "text/plain": [
              "<Figure size 432x288 with 1 Axes>"
            ]
          },
          "metadata": {
            "tags": [],
            "needs_background": "light"
          }
        }
      ]
    },
    {
      "cell_type": "code",
      "metadata": {
        "id": "tkeWnOUIEV0a"
      },
      "source": [
        "outlier_columns= ['SR', 'avg', 'runs', '_6s', '_30s', 'economy', 'wickets', 'runs_after_6ovs']"
      ],
      "execution_count": 14,
      "outputs": []
    },
    {
      "cell_type": "code",
      "metadata": {
        "id": "U3Yxjc-IEV2z"
      },
      "source": [
        "## storing names of columns in outlier_columns\n",
        "## importing matplotlib and seaborn for visualisation of outliers\n",
        "import matplotlib.pyplot as plt\n",
        "import seaborn as sns   \n",
        "\n",
        "## iterating through outlier_columns using try and except for distinguishing between numerical and categorical columns\n",
        "for j in outlier_columns:\n",
        "    try:\n",
        "        ##visualisation of outliers\n",
        "        # a = sns.boxplot(data=df,x=df[j])\n",
        "        # plt.tight_layout() \n",
        "        # plt.show() \n",
        "\n",
        "        xy=df[j]    \n",
        "        mydata=pd.DataFrame()\n",
        "\n",
        "        updated=[]\n",
        "        Q1,Q3=np.percentile(xy,[25,75])\n",
        "        IQR=Q3-Q1\n",
        "        minimum=Q1-1.5*IQR\n",
        "        maximum=Q3+1.5*IQR\n",
        "\n",
        "        ## using the maximum and minimum values obtained from quartiles and inter-quartile range\n",
        "        ## any outliers greater than maximum are updated to be equal to maximum\n",
        "        ## any outliers lesser than minimum are updated to be equal to minimum\n",
        "        ## here, no outliers have been removed to prevent loss of data\n",
        "\n",
        "        for i in xy:\n",
        "            if(i>maximum):\n",
        "                i=maximum\n",
        "                updated.append(i)\n",
        "            elif(i<minimum):\n",
        "                i=minimum\n",
        "                updated.append(i)\n",
        "            else:\n",
        "                updated.append(i)\n",
        "\n",
        "        df[j]=updated\n",
        "        print('After Removing Outliers')\n",
        "\n",
        "        ## visualising after removing outliers\n",
        "        b= sns.boxplot(data=df,x=df[j])\n",
        "        plt.tight_layout() \n",
        "        plt.show()\n",
        "\n",
        "    except:\n",
        "        continue\n",
        "# return df"
      ],
      "execution_count": 15,
      "outputs": []
    },
    {
      "cell_type": "code",
      "metadata": {
        "id": "0XNnnRfvsjoU"
      },
      "source": [
        ""
      ],
      "execution_count": 15,
      "outputs": []
    },
    {
      "cell_type": "code",
      "metadata": {
        "colab": {
          "base_uri": "https://localhost:8080/",
          "height": 223
        },
        "id": "HOzcMJAqoLHs",
        "outputId": "6dc87e9c-b43f-439f-dce6-c0592fb6e85c"
      },
      "source": [
        "df.head()"
      ],
      "execution_count": 16,
      "outputs": [
        {
          "output_type": "execute_result",
          "data": {
            "text/html": [
              "<div>\n",
              "<style scoped>\n",
              "    .dataframe tbody tr th:only-of-type {\n",
              "        vertical-align: middle;\n",
              "    }\n",
              "\n",
              "    .dataframe tbody tr th {\n",
              "        vertical-align: top;\n",
              "    }\n",
              "\n",
              "    .dataframe thead th {\n",
              "        text-align: right;\n",
              "    }\n",
              "</style>\n",
              "<table border=\"1\" class=\"dataframe\">\n",
              "  <thead>\n",
              "    <tr style=\"text-align: right;\">\n",
              "      <th></th>\n",
              "      <th>ID</th>\n",
              "      <th>venue_boundaries</th>\n",
              "      <th>venue_highest_runs</th>\n",
              "      <th>venue_boundaries_first_six</th>\n",
              "      <th>venue_avg_wicket</th>\n",
              "      <th>SR</th>\n",
              "      <th>avg</th>\n",
              "      <th>BF</th>\n",
              "      <th>runs</th>\n",
              "      <th>_4s</th>\n",
              "      <th>_6s</th>\n",
              "      <th>_30s</th>\n",
              "      <th>_50s</th>\n",
              "      <th>economy</th>\n",
              "      <th>wickets</th>\n",
              "      <th>innings</th>\n",
              "      <th>runs_after_6ovs</th>\n",
              "      <th>ball_team</th>\n",
              "      <th>bat_team</th>\n",
              "    </tr>\n",
              "  </thead>\n",
              "  <tbody>\n",
              "    <tr>\n",
              "      <th>0</th>\n",
              "      <td>0</td>\n",
              "      <td>74</td>\n",
              "      <td>263</td>\n",
              "      <td>40</td>\n",
              "      <td>5</td>\n",
              "      <td>1.154072</td>\n",
              "      <td>24.839080</td>\n",
              "      <td>1248.333333</td>\n",
              "      <td>1440.666667</td>\n",
              "      <td>145.000000</td>\n",
              "      <td>58.000000</td>\n",
              "      <td>58.000000</td>\n",
              "      <td>58.000000</td>\n",
              "      <td>7.585662</td>\n",
              "      <td>80.666667</td>\n",
              "      <td>1</td>\n",
              "      <td>61</td>\n",
              "      <td>13</td>\n",
              "      <td>7</td>\n",
              "    </tr>\n",
              "    <tr>\n",
              "      <th>1</th>\n",
              "      <td>1</td>\n",
              "      <td>74</td>\n",
              "      <td>263</td>\n",
              "      <td>40</td>\n",
              "      <td>5</td>\n",
              "      <td>1.188508</td>\n",
              "      <td>27.436073</td>\n",
              "      <td>1685.166667</td>\n",
              "      <td>2002.833333</td>\n",
              "      <td>192.666667</td>\n",
              "      <td>54.666667</td>\n",
              "      <td>73.000000</td>\n",
              "      <td>73.000000</td>\n",
              "      <td>8.074994</td>\n",
              "      <td>70.000000</td>\n",
              "      <td>2</td>\n",
              "      <td>26</td>\n",
              "      <td>7</td>\n",
              "      <td>13</td>\n",
              "    </tr>\n",
              "    <tr>\n",
              "      <th>2</th>\n",
              "      <td>2</td>\n",
              "      <td>30</td>\n",
              "      <td>213</td>\n",
              "      <td>21</td>\n",
              "      <td>5</td>\n",
              "      <td>1.197900</td>\n",
              "      <td>26.247788</td>\n",
              "      <td>1650.666667</td>\n",
              "      <td>1977.333333</td>\n",
              "      <td>228.000000</td>\n",
              "      <td>48.333333</td>\n",
              "      <td>75.333333</td>\n",
              "      <td>75.333333</td>\n",
              "      <td>7.819892</td>\n",
              "      <td>33.000000</td>\n",
              "      <td>1</td>\n",
              "      <td>53</td>\n",
              "      <td>5</td>\n",
              "      <td>0</td>\n",
              "    </tr>\n",
              "    <tr>\n",
              "      <th>3</th>\n",
              "      <td>3</td>\n",
              "      <td>30</td>\n",
              "      <td>213</td>\n",
              "      <td>21</td>\n",
              "      <td>5</td>\n",
              "      <td>1.137993</td>\n",
              "      <td>18.142857</td>\n",
              "      <td>279.000000</td>\n",
              "      <td>317.500000</td>\n",
              "      <td>33.000000</td>\n",
              "      <td>10.000000</td>\n",
              "      <td>17.500000</td>\n",
              "      <td>17.500000</td>\n",
              "      <td>8.617622</td>\n",
              "      <td>31.500000</td>\n",
              "      <td>2</td>\n",
              "      <td>63</td>\n",
              "      <td>0</td>\n",
              "      <td>5</td>\n",
              "    </tr>\n",
              "    <tr>\n",
              "      <th>4</th>\n",
              "      <td>4</td>\n",
              "      <td>32</td>\n",
              "      <td>231</td>\n",
              "      <td>19</td>\n",
              "      <td>6</td>\n",
              "      <td>1.331647</td>\n",
              "      <td>23.109718</td>\n",
              "      <td>1384.000000</td>\n",
              "      <td>1843.000000</td>\n",
              "      <td>165.500000</td>\n",
              "      <td>89.500000</td>\n",
              "      <td>79.750000</td>\n",
              "      <td>79.750000</td>\n",
              "      <td>7.245421</td>\n",
              "      <td>17.666667</td>\n",
              "      <td>1</td>\n",
              "      <td>40</td>\n",
              "      <td>3</td>\n",
              "      <td>10</td>\n",
              "    </tr>\n",
              "  </tbody>\n",
              "</table>\n",
              "</div>"
            ],
            "text/plain": [
              "   ID  venue_boundaries  ...  ball_team  bat_team\n",
              "0   0                74  ...         13         7\n",
              "1   1                74  ...          7        13\n",
              "2   2                30  ...          5         0\n",
              "3   3                30  ...          0         5\n",
              "4   4                32  ...          3        10\n",
              "\n",
              "[5 rows x 19 columns]"
            ]
          },
          "metadata": {
            "tags": []
          },
          "execution_count": 16
        }
      ]
    },
    {
      "cell_type": "code",
      "metadata": {
        "colab": {
          "base_uri": "https://localhost:8080/"
        },
        "id": "ikfV0CDBIPCG",
        "outputId": "9e57684b-bc1c-4f03-cd15-55d2a6facb1c"
      },
      "source": [
        "corr_matrix = df.corr()\n",
        "corr_matrix[\"runs_after_6ovs\"].sort_values(ascending=False)"
      ],
      "execution_count": 17,
      "outputs": [
        {
          "output_type": "execute_result",
          "data": {
            "text/plain": [
              "runs_after_6ovs               1.000000\n",
              "_4s                           0.122037\n",
              "avg                           0.103800\n",
              "economy                       0.100068\n",
              "venue_highest_runs            0.092666\n",
              "ID                            0.081885\n",
              "runs                          0.080963\n",
              "BF                            0.076668\n",
              "SR                            0.066781\n",
              "venue_boundaries_first_six    0.062110\n",
              "venue_boundaries              0.059206\n",
              "_50s                          0.050346\n",
              "_30s                          0.050346\n",
              "venue_avg_wicket              0.048744\n",
              "_6s                           0.035744\n",
              "bat_team                     -0.014604\n",
              "ball_team                    -0.023300\n",
              "wickets                      -0.078579\n",
              "innings                      -0.112361\n",
              "Name: runs_after_6ovs, dtype: float64"
            ]
          },
          "metadata": {
            "tags": []
          },
          "execution_count": 17
        }
      ]
    },
    {
      "cell_type": "markdown",
      "metadata": {
        "id": "sJhn_G0tcw9h"
      },
      "source": [
        "As we can see.. there's so less correlation between dependaet and independent attributes which will definitely going to effect the performance of the model"
      ]
    },
    {
      "cell_type": "code",
      "metadata": {
        "id": "aSTWJqybIPFi"
      },
      "source": [
        "#removing less correlated (corr<0.07) attributes since it might effect the model accuracy\n",
        "more_correlated_columns=['ID', 'venue_highest_runs', 'SR', 'avg', 'BF',\n",
        "       'runs', '_4s','economy', 'wickets', 'innings', 'runs_after_6ovs']"
      ],
      "execution_count": 18,
      "outputs": []
    },
    {
      "cell_type": "code",
      "metadata": {
        "id": "-JGvrd9ZKAfs"
      },
      "source": [
        "df_new= df[more_correlated_columns]"
      ],
      "execution_count": 19,
      "outputs": []
    },
    {
      "cell_type": "code",
      "metadata": {
        "id": "OGmXxBdmKG_i"
      },
      "source": [
        "y=df['runs_after_6ovs']"
      ],
      "execution_count": 20,
      "outputs": []
    },
    {
      "cell_type": "code",
      "metadata": {
        "colab": {
          "base_uri": "https://localhost:8080/"
        },
        "id": "0sP8CGlnKHC7",
        "outputId": "efd30f00-7d13-4461-fb39-0ae00ab36aa1"
      },
      "source": [
        "df_new.drop(\"runs_after_6ovs\", axis=1, inplace=True)"
      ],
      "execution_count": 21,
      "outputs": [
        {
          "output_type": "stream",
          "text": [
            "/usr/local/lib/python3.7/dist-packages/pandas/core/frame.py:4174: SettingWithCopyWarning: \n",
            "A value is trying to be set on a copy of a slice from a DataFrame\n",
            "\n",
            "See the caveats in the documentation: https://pandas.pydata.org/pandas-docs/stable/user_guide/indexing.html#returning-a-view-versus-a-copy\n",
            "  errors=errors,\n"
          ],
          "name": "stderr"
        }
      ]
    },
    {
      "cell_type": "code",
      "metadata": {
        "id": "ovHoqXSdKk8r"
      },
      "source": [
        "X= df_new"
      ],
      "execution_count": 22,
      "outputs": []
    },
    {
      "cell_type": "code",
      "metadata": {
        "colab": {
          "base_uri": "https://localhost:8080/",
          "height": 203
        },
        "id": "4PEPxz63H_c8",
        "outputId": "a6c50852-4ec4-4529-abda-dbb5b3788832"
      },
      "source": [
        "X.head()"
      ],
      "execution_count": 23,
      "outputs": [
        {
          "output_type": "execute_result",
          "data": {
            "text/html": [
              "<div>\n",
              "<style scoped>\n",
              "    .dataframe tbody tr th:only-of-type {\n",
              "        vertical-align: middle;\n",
              "    }\n",
              "\n",
              "    .dataframe tbody tr th {\n",
              "        vertical-align: top;\n",
              "    }\n",
              "\n",
              "    .dataframe thead th {\n",
              "        text-align: right;\n",
              "    }\n",
              "</style>\n",
              "<table border=\"1\" class=\"dataframe\">\n",
              "  <thead>\n",
              "    <tr style=\"text-align: right;\">\n",
              "      <th></th>\n",
              "      <th>ID</th>\n",
              "      <th>venue_highest_runs</th>\n",
              "      <th>SR</th>\n",
              "      <th>avg</th>\n",
              "      <th>BF</th>\n",
              "      <th>runs</th>\n",
              "      <th>_4s</th>\n",
              "      <th>economy</th>\n",
              "      <th>wickets</th>\n",
              "      <th>innings</th>\n",
              "    </tr>\n",
              "  </thead>\n",
              "  <tbody>\n",
              "    <tr>\n",
              "      <th>0</th>\n",
              "      <td>0</td>\n",
              "      <td>263</td>\n",
              "      <td>1.154072</td>\n",
              "      <td>24.839080</td>\n",
              "      <td>1248.333333</td>\n",
              "      <td>1440.666667</td>\n",
              "      <td>145.000000</td>\n",
              "      <td>7.585662</td>\n",
              "      <td>80.666667</td>\n",
              "      <td>1</td>\n",
              "    </tr>\n",
              "    <tr>\n",
              "      <th>1</th>\n",
              "      <td>1</td>\n",
              "      <td>263</td>\n",
              "      <td>1.188508</td>\n",
              "      <td>27.436073</td>\n",
              "      <td>1685.166667</td>\n",
              "      <td>2002.833333</td>\n",
              "      <td>192.666667</td>\n",
              "      <td>8.074994</td>\n",
              "      <td>70.000000</td>\n",
              "      <td>2</td>\n",
              "    </tr>\n",
              "    <tr>\n",
              "      <th>2</th>\n",
              "      <td>2</td>\n",
              "      <td>213</td>\n",
              "      <td>1.197900</td>\n",
              "      <td>26.247788</td>\n",
              "      <td>1650.666667</td>\n",
              "      <td>1977.333333</td>\n",
              "      <td>228.000000</td>\n",
              "      <td>7.819892</td>\n",
              "      <td>33.000000</td>\n",
              "      <td>1</td>\n",
              "    </tr>\n",
              "    <tr>\n",
              "      <th>3</th>\n",
              "      <td>3</td>\n",
              "      <td>213</td>\n",
              "      <td>1.137993</td>\n",
              "      <td>18.142857</td>\n",
              "      <td>279.000000</td>\n",
              "      <td>317.500000</td>\n",
              "      <td>33.000000</td>\n",
              "      <td>8.617622</td>\n",
              "      <td>31.500000</td>\n",
              "      <td>2</td>\n",
              "    </tr>\n",
              "    <tr>\n",
              "      <th>4</th>\n",
              "      <td>4</td>\n",
              "      <td>231</td>\n",
              "      <td>1.331647</td>\n",
              "      <td>23.109718</td>\n",
              "      <td>1384.000000</td>\n",
              "      <td>1843.000000</td>\n",
              "      <td>165.500000</td>\n",
              "      <td>7.245421</td>\n",
              "      <td>17.666667</td>\n",
              "      <td>1</td>\n",
              "    </tr>\n",
              "  </tbody>\n",
              "</table>\n",
              "</div>"
            ],
            "text/plain": [
              "   ID  venue_highest_runs        SR  ...   economy    wickets  innings\n",
              "0   0                 263  1.154072  ...  7.585662  80.666667        1\n",
              "1   1                 263  1.188508  ...  8.074994  70.000000        2\n",
              "2   2                 213  1.197900  ...  7.819892  33.000000        1\n",
              "3   3                 213  1.137993  ...  8.617622  31.500000        2\n",
              "4   4                 231  1.331647  ...  7.245421  17.666667        1\n",
              "\n",
              "[5 rows x 10 columns]"
            ]
          },
          "metadata": {
            "tags": []
          },
          "execution_count": 23
        }
      ]
    },
    {
      "cell_type": "code",
      "metadata": {
        "id": "wx7AkUpiIlsX"
      },
      "source": [
        "# applying train test split\n",
        "from sklearn.model_selection import train_test_split\n",
        "x_train, x_test, y_train, y_test = train_test_split(X, y, test_size = 0.25, random_state = 38)\n"
      ],
      "execution_count": 122,
      "outputs": []
    },
    {
      "cell_type": "code",
      "metadata": {
        "id": "sBG6Tb5O9zQJ"
      },
      "source": [
        "#import libraries for pre-processing\n",
        "import warnings\n",
        "warnings.simplefilter(action='ignore', category=FutureWarning)\n",
        "import pandas as pd\n",
        "from pandas.plotting import scatter_matrix\n",
        "import seaborn as sns\n",
        "import matplotlib.pyplot as plt\n",
        "%matplotlib inline\n",
        "import numpy as np\n",
        "\n",
        "from dateutil.parser import parse\n",
        "from datetime import datetime\n",
        "from scipy.stats import norm\n",
        "\n",
        "# import all what you need for machine learning\n",
        "import sklearn\n",
        "from sklearn.model_selection import cross_val_predict\n",
        "from sklearn.model_selection import cross_val_score\n",
        "from sklearn.model_selection import cross_validate\n",
        "from sklearn.model_selection import train_test_split\n",
        "from sklearn.linear_model import LinearRegression\n",
        "from sklearn.ensemble import RandomForestRegressor\n",
        "from sklearn.tree import DecisionTreeRegressor\n",
        "from sklearn.model_selection import RandomizedSearchCV\n",
        "from sklearn.model_selection import GridSearchCV\n",
        "from sklearn.linear_model import LinearRegression\n",
        "from sklearn.preprocessing import RobustScaler"
      ],
      "execution_count": 123,
      "outputs": []
    },
    {
      "cell_type": "code",
      "metadata": {
        "colab": {
          "base_uri": "https://localhost:8080/"
        },
        "id": "dwD2Eu6f9fM6",
        "outputId": "6718f326-0803-4246-dd4b-cfb5275a7b98"
      },
      "source": [
        "\n",
        "#fit decision tree\n",
        "tree = DecisionTreeRegressor()\n",
        "tree.fit(x_train, y_train)\n",
        "#fit random forest\n",
        "forest = RandomForestRegressor(n_jobs=-1)\n",
        "forest.fit(x_train, y_train)\n",
        "#fit regression\n",
        "lin_reg = LinearRegression(n_jobs=-1)\n",
        "lin_reg.fit(x_train, y_train)"
      ],
      "execution_count": 124,
      "outputs": [
        {
          "output_type": "execute_result",
          "data": {
            "text/plain": [
              "LinearRegression(copy_X=True, fit_intercept=True, n_jobs=-1, normalize=False)"
            ]
          },
          "metadata": {
            "tags": []
          },
          "execution_count": 124
        }
      ]
    },
    {
      "cell_type": "code",
      "metadata": {
        "colab": {
          "base_uri": "https://localhost:8080/"
        },
        "id": "jn1m8Ade9fRi",
        "outputId": "607bef57-1874-4be4-ef16-1a4886377748"
      },
      "source": [
        "models= [('lin_reg', lin_reg), ('random forest', forest), ('decision tree', tree)]\n",
        "from sklearn.metrics import mean_squared_error\n",
        "for i, model in models:    \n",
        "    predictions = model.predict(x_train)\n",
        "    MSE = mean_squared_error(y_train, predictions)\n",
        "    RMSE = np.sqrt(MSE)\n",
        "    msg = \"%s = %.2f\" % (i, round(RMSE, 2))\n",
        "    print('RMSE of', msg)\n",
        "    print(MSE)"
      ],
      "execution_count": 125,
      "outputs": [
        {
          "output_type": "stream",
          "text": [
            "RMSE of lin_reg = 12.41\n",
            "154.03648376940393\n",
            "RMSE of random forest = 4.32\n",
            "18.689624779470726\n",
            "RMSE of decision tree = 0.00\n",
            "0.0\n"
          ],
          "name": "stdout"
        }
      ]
    },
    {
      "cell_type": "code",
      "metadata": {
        "id": "ztZqAvaG9fYI"
      },
      "source": [
        "models= [('lin_reg', lin_reg), ('forest', forest), ('dt', tree)]\n",
        "scoring = ['neg_mean_squared_error', 'neg_mean_absolute_error', 'r2']\n",
        "\n",
        "#for each model I want to test three different scoring metrics. Therefore, results[0] will be lin_reg x MSE, \n",
        "# results[1] lin_reg x MSE and so on until results [8], where we stored dt x r2\n",
        "\n",
        "results= []\n",
        "metric= []\n",
        "for name, model in models:\n",
        "    for i in scoring:\n",
        "        scores = cross_validate(model, x_train, y_train, scoring=i, cv=10, return_train_score=True)\n",
        "        results.append(scores)"
      ],
      "execution_count": 126,
      "outputs": []
    },
    {
      "cell_type": "code",
      "metadata": {
        "colab": {
          "base_uri": "https://localhost:8080/"
        },
        "id": "nYK39DC79fdU",
        "outputId": "0f832651-241d-4b30-91a4-65c16c232379"
      },
      "source": [
        "results[8]\n"
      ],
      "execution_count": 127,
      "outputs": [
        {
          "output_type": "execute_result",
          "data": {
            "text/plain": [
              "{'fit_time': array([0.0132153 , 0.01299334, 0.01388717, 0.01327085, 0.01307631,\n",
              "        0.01380706, 0.01267648, 0.01315379, 0.01288676, 0.01327991]),\n",
              " 'score_time': array([0.00141931, 0.00142026, 0.00144005, 0.00146198, 0.00145745,\n",
              "        0.00141478, 0.00138617, 0.00147009, 0.00139213, 0.00138807]),\n",
              " 'test_score': array([-0.46251601, -0.80740012, -0.66011436, -0.37308975, -0.46567053,\n",
              "        -0.48926867, -0.72462954, -0.67109548, -0.62171973, -1.00160821]),\n",
              " 'train_score': array([1., 1., 1., 1., 1., 1., 1., 1., 1., 1.])}"
            ]
          },
          "metadata": {
            "tags": []
          },
          "execution_count": 127
        }
      ]
    },
    {
      "cell_type": "code",
      "metadata": {
        "id": "WpK5hQbo9ffn"
      },
      "source": [
        "#THIS IS FOR Linear regression\n",
        "#if you change sign and square the Mean Square Error you get the RMSE, which is the most common metric to accuracy\n",
        "LR_RMSE_mean = np.sqrt(-results[0]['test_score'].mean())\n",
        "LR_RMSE_std= results[0]['test_score'].std()\n",
        "# note that also here I changed the sign, as the result is originally a negative number for ease of computation\n",
        "LR_MAE_mean = -results[1]['test_score'].mean()\n",
        "LR_MAE_std= results[1]['test_score'].std()\n",
        "LR_r2_mean = results[2]['test_score'].mean()\n",
        "LR_r2_std = results[2]['test_score'].std()\n",
        "\n",
        "#THIS IS FOR RF\n",
        "RF_RMSE_mean = np.sqrt(-results[3]['test_score'].mean())\n",
        "RF_RMSE_std= results[3]['test_score'].std()\n",
        "RF_MAE_mean = -results[4]['test_score'].mean()\n",
        "RF_MAE_std= results[4]['test_score'].std()\n",
        "RF_r2_mean = results[5]['test_score'].mean()\n",
        "RF_r2_std = results[5]['test_score'].std()\n",
        "\n",
        "#THIS IS FOR DT\n",
        "DT_RMSE_mean = np.sqrt(-results[6]['test_score'].mean())\n",
        "DT_RMSE_std= results[6]['test_score'].std()\n",
        "DT_MAE_mean = -results[7]['test_score'].mean()\n",
        "DT_MAE_std= results[7]['test_score'].std()\n",
        "DT_r2_mean = results[8]['test_score'].mean()\n",
        "DT_r2_std = results[8]['test_score'].std()"
      ],
      "execution_count": 128,
      "outputs": []
    },
    {
      "cell_type": "code",
      "metadata": {
        "colab": {
          "base_uri": "https://localhost:8080/",
          "height": 142
        },
        "id": "nGw3KdV79fiK",
        "outputId": "7603518c-2a06-4b79-b657-c44991e0c73e"
      },
      "source": [
        "modelDF = pd.DataFrame({\n",
        "    'Model'       : ['Linear Regression', 'Random Forest', 'Decision Trees'],\n",
        "    'RMSE_mean'    : [LR_RMSE_mean, RF_RMSE_mean, DT_RMSE_mean],\n",
        "    'RMSE_std'    : [LR_RMSE_std, RF_RMSE_std, DT_RMSE_std],\n",
        "    'MAE_mean'   : [LR_MAE_mean, RF_MAE_mean, DT_MAE_mean],\n",
        "    'MAE_std'   : [LR_MAE_std, RF_MAE_std, DT_MAE_std],\n",
        "    'r2_mean'      : [LR_r2_mean, RF_r2_mean, DT_r2_mean],\n",
        "    'r2_std'      : [LR_r2_std, RF_r2_std, DT_r2_std],\n",
        "    }, columns = ['Model', 'RMSE_mean', 'RMSE_std', 'MAE_mean', 'MAE_std', 'r2_mean', 'r2_std'])\n",
        "\n",
        "modelDF.sort_values(by='r2_mean', ascending=False)"
      ],
      "execution_count": 129,
      "outputs": [
        {
          "output_type": "execute_result",
          "data": {
            "text/html": [
              "<div>\n",
              "<style scoped>\n",
              "    .dataframe tbody tr th:only-of-type {\n",
              "        vertical-align: middle;\n",
              "    }\n",
              "\n",
              "    .dataframe tbody tr th {\n",
              "        vertical-align: top;\n",
              "    }\n",
              "\n",
              "    .dataframe thead th {\n",
              "        text-align: right;\n",
              "    }\n",
              "</style>\n",
              "<table border=\"1\" class=\"dataframe\">\n",
              "  <thead>\n",
              "    <tr style=\"text-align: right;\">\n",
              "      <th></th>\n",
              "      <th>Model</th>\n",
              "      <th>RMSE_mean</th>\n",
              "      <th>RMSE_std</th>\n",
              "      <th>MAE_mean</th>\n",
              "      <th>MAE_std</th>\n",
              "      <th>r2_mean</th>\n",
              "      <th>r2_std</th>\n",
              "    </tr>\n",
              "  </thead>\n",
              "  <tbody>\n",
              "    <tr>\n",
              "      <th>1</th>\n",
              "      <td>Random Forest</td>\n",
              "      <td>11.611968</td>\n",
              "      <td>16.829682</td>\n",
              "      <td>9.134964</td>\n",
              "      <td>0.458783</td>\n",
              "      <td>0.192576</td>\n",
              "      <td>0.080985</td>\n",
              "    </tr>\n",
              "    <tr>\n",
              "      <th>0</th>\n",
              "      <td>Linear Regression</td>\n",
              "      <td>12.543838</td>\n",
              "      <td>16.484640</td>\n",
              "      <td>9.653825</td>\n",
              "      <td>0.600286</td>\n",
              "      <td>0.056862</td>\n",
              "      <td>0.044803</td>\n",
              "    </tr>\n",
              "    <tr>\n",
              "      <th>2</th>\n",
              "      <td>Decision Trees</td>\n",
              "      <td>16.766003</td>\n",
              "      <td>39.928754</td>\n",
              "      <td>13.133039</td>\n",
              "      <td>0.865539</td>\n",
              "      <td>-0.627711</td>\n",
              "      <td>0.179442</td>\n",
              "    </tr>\n",
              "  </tbody>\n",
              "</table>\n",
              "</div>"
            ],
            "text/plain": [
              "               Model  RMSE_mean   RMSE_std  ...   MAE_std   r2_mean    r2_std\n",
              "1      Random Forest  11.611968  16.829682  ...  0.458783  0.192576  0.080985\n",
              "0  Linear Regression  12.543838  16.484640  ...  0.600286  0.056862  0.044803\n",
              "2     Decision Trees  16.766003  39.928754  ...  0.865539 -0.627711  0.179442\n",
              "\n",
              "[3 rows x 7 columns]"
            ]
          },
          "metadata": {
            "tags": []
          },
          "execution_count": 129
        }
      ]
    },
    {
      "cell_type": "code",
      "metadata": {
        "colab": {
          "base_uri": "https://localhost:8080/",
          "height": 457
        },
        "id": "tFWYdt8c9fkc",
        "outputId": "015ce896-7d6d-4990-9536-910bd4a3a77c"
      },
      "source": [
        "sns.factorplot(x= 'Model', y= 'RMSE_mean', data= modelDF, kind='bar', legend='True')\n"
      ],
      "execution_count": 130,
      "outputs": [
        {
          "output_type": "stream",
          "text": [
            "/usr/local/lib/python3.7/dist-packages/seaborn/categorical.py:3714: UserWarning: The `factorplot` function has been renamed to `catplot`. The original name will be removed in a future release. Please update your code. Note that the default `kind` in `factorplot` (`'point'`) has changed `'strip'` in `catplot`.\n",
            "  warnings.warn(msg)\n"
          ],
          "name": "stderr"
        },
        {
          "output_type": "execute_result",
          "data": {
            "text/plain": [
              "<seaborn.axisgrid.FacetGrid at 0x7fc4a5db9cd0>"
            ]
          },
          "metadata": {
            "tags": []
          },
          "execution_count": 130
        },
        {
          "output_type": "display_data",
          "data": {
            "image/png": "[encoded data removed]",
            "text/plain": [
              "<Figure size 360x360 with 1 Axes>"
            ]
          },
          "metadata": {
            "tags": [],
            "needs_background": "light"
          }
        }
      ]
    },
    {
      "cell_type": "code",
      "metadata": {
        "colab": {
          "base_uri": "https://localhost:8080/"
        },
        "id": "iH2yZzSP9fnz",
        "outputId": "6c7801d8-c0f7-478c-ee0b-872335c19c41"
      },
      "source": [
        "from sklearn.model_selection import GridSearchCV\n",
        "\n",
        "param_grid = [\n",
        "{'n_estimators': [10, 25], 'max_features': [5, 10], \n",
        " 'max_depth': [10, 50, None], 'bootstrap': [True, False]}\n",
        "]\n",
        "\n",
        "grid_search_forest = GridSearchCV(forest, param_grid, cv=10, scoring='neg_mean_squared_error')\n",
        "grid_search_forest.fit(x_train, y_train)"
      ],
      "execution_count": 131,
      "outputs": [
        {
          "output_type": "execute_result",
          "data": {
            "text/plain": [
              "GridSearchCV(cv=10, error_score=nan,\n",
              "             estimator=RandomForestRegressor(bootstrap=True, ccp_alpha=0.0,\n",
              "                                             criterion='mse', max_depth=None,\n",
              "                                             max_features='auto',\n",
              "                                             max_leaf_nodes=None,\n",
              "                                             max_samples=None,\n",
              "                                             min_impurity_decrease=0.0,\n",
              "                                             min_impurity_split=None,\n",
              "                                             min_samples_leaf=1,\n",
              "                                             min_samples_split=2,\n",
              "                                             min_weight_fraction_leaf=0.0,\n",
              "                                             n_estimators=100, n_jobs=-1,\n",
              "                                             oob_score=False, random_state=None,\n",
              "                                             verbose=0, warm_start=False),\n",
              "             iid='deprecated', n_jobs=None,\n",
              "             param_grid=[{'bootstrap': [True, False],\n",
              "                          'max_depth': [10, 50, None], 'max_features': [5, 10],\n",
              "                          'n_estimators': [10, 25]}],\n",
              "             pre_dispatch='2*n_jobs', refit=True, return_train_score=False,\n",
              "             scoring='neg_mean_squared_error', verbose=0)"
            ]
          },
          "metadata": {
            "tags": []
          },
          "execution_count": 131
        }
      ]
    },
    {
      "cell_type": "code",
      "metadata": {
        "colab": {
          "base_uri": "https://localhost:8080/"
        },
        "id": "lv1gk5GK9fqn",
        "outputId": "a5131e0c-b6e3-444f-aa98-eb821bbb95e5"
      },
      "source": [
        "#now let's how the RMSE changes for each parameter configuration\n",
        "cvres = grid_search_forest.cv_results_\n",
        "cvres"
      ],
      "execution_count": 132,
      "outputs": [
        {
          "output_type": "execute_result",
          "data": {
            "text/plain": [
              "{'mean_fit_time': array([0.05517435, 0.11771414, 0.07208824, 0.16542401, 0.06770475,\n",
              "        0.1483566 , 0.08999109, 0.2059087 , 0.06528187, 0.14530206,\n",
              "        0.09139693, 0.20628996, 0.06142986, 0.13918412, 0.09029732,\n",
              "        0.208319  , 0.08236668, 0.18926387, 0.12110457, 0.2842037 ,\n",
              "        0.083196  , 0.19003615, 0.12023997, 0.28206725]),\n",
              " 'mean_score_time': array([0.10333951, 0.1034749 , 0.10335932, 0.10332386, 0.10359495,\n",
              "        0.10334613, 0.10340331, 0.10334487, 0.10333745, 0.10323215,\n",
              "        0.10340889, 0.10336888, 0.10341921, 0.10338213, 0.10323832,\n",
              "        0.10329611, 0.10322616, 0.10336833, 0.10329287, 0.10346208,\n",
              "        0.10327625, 0.1032825 , 0.10322778, 0.10332813]),\n",
              " 'mean_test_score': array([-140.10464571, -134.44030997, -140.51749914, -135.60633795,\n",
              "        -145.76095619, -136.07656335, -145.24923716, -138.97838754,\n",
              "        -150.57515529, -139.24628777, -144.16369316, -138.02186115,\n",
              "        -143.93271116, -141.6839041 , -197.10772914, -194.65031959,\n",
              "        -154.34460845, -148.77102066, -257.7626571 , -257.25162905,\n",
              "        -156.42327974, -150.52715837, -258.66918297, -257.23775292]),\n",
              " 'param_bootstrap': masked_array(data=[True, True, True, True, True, True, True, True, True,\n",
              "                    True, True, True, False, False, False, False, False,\n",
              "                    False, False, False, False, False, False, False],\n",
              "              mask=[False, False, False, False, False, False, False, False,\n",
              "                    False, False, False, False, False, False, False, False,\n",
              "                    False, False, False, False, False, False, False, False],\n",
              "        fill_value='?',\n",
              "             dtype=object),\n",
              " 'param_max_depth': masked_array(data=[10, 10, 10, 10, 50, 50, 50, 50, None, None, None, None,\n",
              "                    10, 10, 10, 10, 50, 50, 50, 50, None, None, None, None],\n",
              "              mask=[False, False, False, False, False, False, False, False,\n",
              "                    False, False, False, False, False, False, False, False,\n",
              "                    False, False, False, False, False, False, False, False],\n",
              "        fill_value='?',\n",
              "             dtype=object),\n",
              " 'param_max_features': masked_array(data=[5, 5, 10, 10, 5, 5, 10, 10, 5, 5, 10, 10, 5, 5, 10, 10,\n",
              "                    5, 5, 10, 10, 5, 5, 10, 10],\n",
              "              mask=[False, False, False, False, False, False, False, False,\n",
              "                    False, False, False, False, False, False, False, False,\n",
              "                    False, False, False, False, False, False, False, False],\n",
              "        fill_value='?',\n",
              "             dtype=object),\n",
              " 'param_n_estimators': masked_array(data=[10, 25, 10, 25, 10, 25, 10, 25, 10, 25, 10, 25, 10, 25,\n",
              "                    10, 25, 10, 25, 10, 25, 10, 25, 10, 25],\n",
              "              mask=[False, False, False, False, False, False, False, False,\n",
              "                    False, False, False, False, False, False, False, False,\n",
              "                    False, False, False, False, False, False, False, False],\n",
              "        fill_value='?',\n",
              "             dtype=object),\n",
              " 'params': [{'bootstrap': True,\n",
              "   'max_depth': 10,\n",
              "   'max_features': 5,\n",
              "   'n_estimators': 10},\n",
              "  {'bootstrap': True, 'max_depth': 10, 'max_features': 5, 'n_estimators': 25},\n",
              "  {'bootstrap': True, 'max_depth': 10, 'max_features': 10, 'n_estimators': 10},\n",
              "  {'bootstrap': True, 'max_depth': 10, 'max_features': 10, 'n_estimators': 25},\n",
              "  {'bootstrap': True, 'max_depth': 50, 'max_features': 5, 'n_estimators': 10},\n",
              "  {'bootstrap': True, 'max_depth': 50, 'max_features': 5, 'n_estimators': 25},\n",
              "  {'bootstrap': True, 'max_depth': 50, 'max_features': 10, 'n_estimators': 10},\n",
              "  {'bootstrap': True, 'max_depth': 50, 'max_features': 10, 'n_estimators': 25},\n",
              "  {'bootstrap': True,\n",
              "   'max_depth': None,\n",
              "   'max_features': 5,\n",
              "   'n_estimators': 10},\n",
              "  {'bootstrap': True,\n",
              "   'max_depth': None,\n",
              "   'max_features': 5,\n",
              "   'n_estimators': 25},\n",
              "  {'bootstrap': True,\n",
              "   'max_depth': None,\n",
              "   'max_features': 10,\n",
              "   'n_estimators': 10},\n",
              "  {'bootstrap': True,\n",
              "   'max_depth': None,\n",
              "   'max_features': 10,\n",
              "   'n_estimators': 25},\n",
              "  {'bootstrap': False, 'max_depth': 10, 'max_features': 5, 'n_estimators': 10},\n",
              "  {'bootstrap': False, 'max_depth': 10, 'max_features': 5, 'n_estimators': 25},\n",
              "  {'bootstrap': False,\n",
              "   'max_depth': 10,\n",
              "   'max_features': 10,\n",
              "   'n_estimators': 10},\n",
              "  {'bootstrap': False,\n",
              "   'max_depth': 10,\n",
              "   'max_features': 10,\n",
              "   'n_estimators': 25},\n",
              "  {'bootstrap': False, 'max_depth': 50, 'max_features': 5, 'n_estimators': 10},\n",
              "  {'bootstrap': False, 'max_depth': 50, 'max_features': 5, 'n_estimators': 25},\n",
              "  {'bootstrap': False,\n",
              "   'max_depth': 50,\n",
              "   'max_features': 10,\n",
              "   'n_estimators': 10},\n",
              "  {'bootstrap': False,\n",
              "   'max_depth': 50,\n",
              "   'max_features': 10,\n",
              "   'n_estimators': 25},\n",
              "  {'bootstrap': False,\n",
              "   'max_depth': None,\n",
              "   'max_features': 5,\n",
              "   'n_estimators': 10},\n",
              "  {'bootstrap': False,\n",
              "   'max_depth': None,\n",
              "   'max_features': 5,\n",
              "   'n_estimators': 25},\n",
              "  {'bootstrap': False,\n",
              "   'max_depth': None,\n",
              "   'max_features': 10,\n",
              "   'n_estimators': 10},\n",
              "  {'bootstrap': False,\n",
              "   'max_depth': None,\n",
              "   'max_features': 10,\n",
              "   'n_estimators': 25}],\n",
              " 'rank_test_score': array([ 7,  1,  8,  2, 13,  3, 12,  5, 16,  6, 11,  4, 10,  9, 20, 19, 17,\n",
              "        14, 23, 22, 18, 15, 24, 21], dtype=int32),\n",
              " 'split0_test_score': array([-148.73430005, -141.87639791, -143.30930813, -142.55272809,\n",
              "        -160.77968   , -143.768128  , -158.03728   , -147.7286528 ,\n",
              "        -161.15376   , -145.1927296 , -145.42416   , -141.0428416 ,\n",
              "        -150.33134847, -137.8667784 , -186.70836081, -184.80320395,\n",
              "        -163.77048   , -152.953216  , -256.98896   , -254.3024512 ,\n",
              "        -163.96456   , -152.0310144 , -261.57912   , -255.6928128 ]),\n",
              " 'split1_test_score': array([-162.76493708, -165.28688238, -168.32940274, -161.7002925 ,\n",
              "        -175.13784   , -156.6138112 , -173.92248   , -162.4801152 ,\n",
              "        -184.21264   , -165.7245312 , -173.05776   , -171.231936  ,\n",
              "        -171.35081598, -168.50633159, -231.04477925, -231.60239245,\n",
              "        -183.96264   , -179.7415552 , -307.69168   , -309.5128064 ,\n",
              "        -172.6496    , -182.1335168 , -309.4148    , -304.3595648 ]),\n",
              " 'split2_test_score': array([-156.65702682, -155.11493205, -166.93915119, -149.1895655 ,\n",
              "        -157.3672    , -150.8772608 , -145.5052    , -148.1791232 ,\n",
              "        -173.84208   , -154.8860544 , -163.83208   , -142.6182528 ,\n",
              "        -152.62831737, -152.44624949, -243.42328845, -240.67120121,\n",
              "        -152.6216    , -153.2795008 , -344.20096   , -329.7474304 ,\n",
              "        -157.5864    , -159.7623296 , -342.36808   , -340.4273664 ]),\n",
              " 'split3_test_score': array([-121.02894246, -115.0551691 , -118.74957104, -115.61200639,\n",
              "        -149.79344   , -117.6110976 , -131.96432   , -126.4572032 ,\n",
              "        -126.86752   , -126.0750848 , -129.55472   , -117.8183168 ,\n",
              "        -145.16619117, -134.96544489, -165.01800681, -165.16328257,\n",
              "        -149.89968   , -145.900224  , -200.96464   , -200.1121792 ,\n",
              "        -148.36376   , -142.5606656 , -203.05744   , -198.953536  ]),\n",
              " 'split4_test_score': array([-130.77982753, -116.62535931, -122.41197044, -116.16794626,\n",
              "        -124.23392   , -122.6809344 , -127.09496   , -114.4704    ,\n",
              "        -126.8568    , -126.0979584 , -119.02624   , -119.5452032 ,\n",
              "        -129.1305961 , -130.76188611, -163.18646293, -158.27197208,\n",
              "        -135.11312   , -122.9647616 , -211.45312   , -216.7962752 ,\n",
              "        -136.73096   , -126.434624  , -210.82296   , -217.033472  ]),\n",
              " 'split5_test_score': array([-118.26095636, -117.64694028, -120.37274516, -125.75972054,\n",
              "        -120.534     , -119.1233024 , -133.31512   , -121.3231232 ,\n",
              "        -121.02488   , -114.2594176 , -125.06992   , -117.188288  ,\n",
              "        -131.26432628, -124.20970473, -175.3000991 , -167.59066667,\n",
              "        -123.80104   , -122.9429376 , -213.89352   , -224.7195648 ,\n",
              "        -126.39272   , -125.4174208 , -224.08552   , -221.9705856 ]),\n",
              " 'split6_test_score': array([-129.3632383 , -121.65895913, -117.0612908 , -120.93502543,\n",
              "        -136.59824   , -128.9133056 , -142.52656   , -134.071232  ,\n",
              "        -146.22976   , -127.3977856 , -137.0956    , -130.1481344 ,\n",
              "        -126.22390436, -127.57615471, -189.49543821, -182.31641691,\n",
              "        -158.22696   , -136.609792  , -236.03232   , -236.4212736 ,\n",
              "        -157.70512   , -142.4800512 , -236.5452    , -236.8242432 ]),\n",
              " 'split7_test_score': array([-144.08593922, -142.29803726, -169.38586744, -143.45849765,\n",
              "        -162.19201613, -149.04594839, -153.14677419, -149.58886452,\n",
              "        -157.69766129, -158.73571613, -133.93282258, -154.36896774,\n",
              "        -151.15761066, -164.34143675, -218.97520743, -220.19974446,\n",
              "        -174.59725806, -164.00967742, -289.89475806, -289.12477419,\n",
              "        -177.77637097, -168.00499355, -287.71145161, -288.43971613]),\n",
              " 'split8_test_score': array([-157.37663313, -141.61395776, -158.26733718, -152.96631366,\n",
              "        -156.86072581, -147.16634839, -144.62395161, -162.78018065,\n",
              "        -165.17685484, -150.39712258, -161.45967742, -156.10651613,\n",
              "        -151.36746121, -148.59626216, -205.18481153, -202.84019862,\n",
              "        -158.6241129 , -167.94543226, -266.1983871 , -263.96717419,\n",
              "        -175.31927419, -161.84260645, -262.17862903, -260.53232258]),\n",
              " 'split9_test_score': array([-131.99465614, -127.22646453, -120.34834727, -127.72128351,\n",
              "        -114.1125    , -124.96549677, -142.35572581, -122.70498065,\n",
              "        -142.68959677, -123.69647742, -153.18395161, -130.15015484,\n",
              "        -130.70654   , -127.56879217, -192.74083685, -193.04411698,\n",
              "        -142.82919355, -141.36310968, -250.30822581, -247.81236129,\n",
              "        -147.74403226, -144.60436129, -248.92862903, -248.14390968]),\n",
              " 'std_fit_time': array([0.00342734, 0.0035943 , 0.00163477, 0.00349799, 0.00572888,\n",
              "        0.00406854, 0.0026693 , 0.00448952, 0.00155229, 0.00230957,\n",
              "        0.00334638, 0.00489998, 0.00178695, 0.00488006, 0.00281662,\n",
              "        0.00383845, 0.002329  , 0.00484319, 0.00587166, 0.00660233,\n",
              "        0.0026454 , 0.00406184, 0.00353458, 0.00637836]),\n",
              " 'std_score_time': array([1.90550299e-04, 8.14908278e-04, 2.08732632e-04, 9.84078599e-05,\n",
              "        8.71625203e-04, 1.77266978e-04, 2.40535764e-04, 1.40158810e-04,\n",
              "        2.31011316e-04, 1.77351150e-04, 8.54544240e-05, 1.34642816e-04,\n",
              "        3.13588563e-04, 1.80913282e-04, 9.52116439e-05, 1.26892722e-04,\n",
              "        8.76977591e-05, 1.48553403e-04, 1.23066398e-04, 4.70224317e-04,\n",
              "        1.22506463e-04, 1.17087740e-04, 1.26076595e-04, 9.94160992e-05]),\n",
              " 'std_test_score': array([15.11702525, 16.54698597, 21.8913035 , 15.58421565, 19.53997584,\n",
              "        14.0491461 , 13.08736726, 16.58521412, 20.31642777, 16.84673624,\n",
              "        17.22884769, 17.42128597, 13.58465598, 15.09644467, 25.84844127,\n",
              "        27.16613614, 16.93435008, 17.72267718, 43.46445083, 39.42011735,\n",
              "        16.01899067, 17.0125705 , 41.96089381, 41.09062799])}"
            ]
          },
          "metadata": {
            "tags": []
          },
          "execution_count": 132
        }
      ]
    },
    {
      "cell_type": "code",
      "metadata": {
        "colab": {
          "base_uri": "https://localhost:8080/"
        },
        "id": "2QlpWuOhSHa8",
        "outputId": "1747f502-9e12-4cfc-b1ea-7e8cd3fb0eda"
      },
      "source": [
        "for mean_score, params in zip(cvres[\"mean_test_score\"], cvres[\"params\"]):\n",
        "    print(np.sqrt(-mean_score), params)"
      ],
      "execution_count": 133,
      "outputs": [
        {
          "output_type": "stream",
          "text": [
            "11.836580828485555 {'bootstrap': True, 'max_depth': 10, 'max_features': 5, 'n_estimators': 10}\n",
            "11.594839799250382 {'bootstrap': True, 'max_depth': 10, 'max_features': 5, 'n_estimators': 25}\n",
            "11.854007724814448 {'bootstrap': True, 'max_depth': 10, 'max_features': 10, 'n_estimators': 10}\n",
            "11.645013437224545 {'bootstrap': True, 'max_depth': 10, 'max_features': 10, 'n_estimators': 25}\n",
            "12.073150218296316 {'bootstrap': True, 'max_depth': 50, 'max_features': 5, 'n_estimators': 10}\n",
            "11.665185954576065 {'bootstrap': True, 'max_depth': 50, 'max_features': 5, 'n_estimators': 25}\n",
            "12.051939145269955 {'bootstrap': True, 'max_depth': 50, 'max_features': 10, 'n_estimators': 10}\n",
            "11.78890951448204 {'bootstrap': True, 'max_depth': 50, 'max_features': 10, 'n_estimators': 25}\n",
            "12.27090686503335 {'bootstrap': True, 'max_depth': None, 'max_features': 5, 'n_estimators': 10}\n",
            "11.80026642804743 {'bootstrap': True, 'max_depth': None, 'max_features': 5, 'n_estimators': 25}\n",
            "12.006818611159675 {'bootstrap': True, 'max_depth': None, 'max_features': 10, 'n_estimators': 10}\n",
            "11.748270560000213 {'bootstrap': True, 'max_depth': None, 'max_features': 10, 'n_estimators': 25}\n",
            "11.997195970744073 {'bootstrap': False, 'max_depth': 10, 'max_features': 5, 'n_estimators': 10}\n",
            "11.903104809211811 {'bootstrap': False, 'max_depth': 10, 'max_features': 5, 'n_estimators': 25}\n",
            "14.039506014669444 {'bootstrap': False, 'max_depth': 10, 'max_features': 10, 'n_estimators': 10}\n",
            "13.951713858553973 {'bootstrap': False, 'max_depth': 10, 'max_features': 10, 'n_estimators': 25}\n",
            "12.4235505573734 {'bootstrap': False, 'max_depth': 50, 'max_features': 5, 'n_estimators': 10}\n",
            "12.1971726500646 {'bootstrap': False, 'max_depth': 50, 'max_features': 5, 'n_estimators': 25}\n",
            "16.05498854240557 {'bootstrap': False, 'max_depth': 50, 'max_features': 10, 'n_estimators': 10}\n",
            "16.039065716173805 {'bootstrap': False, 'max_depth': 50, 'max_features': 10, 'n_estimators': 25}\n",
            "12.506929269086617 {'bootstrap': False, 'max_depth': None, 'max_features': 5, 'n_estimators': 10}\n",
            "12.268950988940835 {'bootstrap': False, 'max_depth': None, 'max_features': 5, 'n_estimators': 25}\n",
            "16.083195670256018 {'bootstrap': False, 'max_depth': None, 'max_features': 10, 'n_estimators': 10}\n",
            "16.038633137481188 {'bootstrap': False, 'max_depth': None, 'max_features': 10, 'n_estimators': 25}\n"
          ],
          "name": "stdout"
        }
      ]
    },
    {
      "cell_type": "code",
      "metadata": {
        "colab": {
          "base_uri": "https://localhost:8080/"
        },
        "id": "sJFUbZf49fte",
        "outputId": "3a6738ca-6d39-43c0-c289-124bf30aa335"
      },
      "source": [
        "#find the best model of grid search\n",
        "grid_search_forest.best_estimator_"
      ],
      "execution_count": 134,
      "outputs": [
        {
          "output_type": "execute_result",
          "data": {
            "text/plain": [
              "RandomForestRegressor(bootstrap=True, ccp_alpha=0.0, criterion='mse',\n",
              "                      max_depth=10, max_features=5, max_leaf_nodes=None,\n",
              "                      max_samples=None, min_impurity_decrease=0.0,\n",
              "                      min_impurity_split=None, min_samples_leaf=1,\n",
              "                      min_samples_split=2, min_weight_fraction_leaf=0.0,\n",
              "                      n_estimators=25, n_jobs=-1, oob_score=False,\n",
              "                      random_state=None, verbose=0, warm_start=False)"
            ]
          },
          "metadata": {
            "tags": []
          },
          "execution_count": 134
        }
      ]
    },
    {
      "cell_type": "code",
      "metadata": {
        "colab": {
          "base_uri": "https://localhost:8080/"
        },
        "id": "uHYtUldP9fwo",
        "outputId": "f3996fb3-c357-4ff1-c990-dc3e2dfd6ed1"
      },
      "source": [
        "# Performance metrics\n",
        "grid_best= grid_search_forest.best_estimator_.predict(x_train)\n",
        "errors = abs(grid_best - y_train)\n",
        "# Calculate mean absolute percentage error (MAPE)\n",
        "mape = np.mean(100 * (errors / y_train))\n",
        "# Calculate and display accuracy\n",
        "accuracy = 100 - mape    \n",
        "#print result\n",
        "print('The best model from grid-search has an accuracy of', round(accuracy, 2),'%')"
      ],
      "execution_count": 135,
      "outputs": [
        {
          "output_type": "stream",
          "text": [
            "The best model from grid-search has an accuracy of 82.63 %\n"
          ],
          "name": "stdout"
        }
      ]
    },
    {
      "cell_type": "code",
      "metadata": {
        "colab": {
          "base_uri": "https://localhost:8080/"
        },
        "id": "G3JS2UyfJ-Y2",
        "outputId": "a5820b71-9382-445b-97b4-4ed88345e99b"
      },
      "source": [
        "#RMSE\n",
        "grid_mse = mean_squared_error(y_train, grid_best)\n",
        "grid_rmse = np.sqrt(grid_mse)\n",
        "print('The best model from the grid search has a RMSE of', round(grid_rmse, 2))"
      ],
      "execution_count": 136,
      "outputs": [
        {
          "output_type": "stream",
          "text": [
            "The best model from the grid search has a RMSE of 8.14\n"
          ],
          "name": "stdout"
        }
      ]
    },
    {
      "cell_type": "code",
      "metadata": {
        "colab": {
          "base_uri": "https://localhost:8080/"
        },
        "id": "HEogEDaPJ-bQ",
        "outputId": "b25b8b6e-eae6-434c-e6da-82b208dcc134"
      },
      "source": [
        "from sklearn.model_selection import RandomizedSearchCV\n",
        "from pprint import pprint\n",
        "\n",
        "# Number of trees in random forest\n",
        "n_estimators = [int(x) for x in np.linspace(start = 20, stop = 200, num = 5)]\n",
        "# Number of features to consider at every split\n",
        "max_features = ['auto', 'sqrt']\n",
        "# Maximum number of levels in tree\n",
        "max_depth = [int(x) for x in np.linspace(1, 45, num = 3)]\n",
        "# Minimum number of samples required to split a node\n",
        "min_samples_split = [5, 10]\n",
        "\n",
        "# Create the random grid\n",
        "random_grid = {'n_estimators': n_estimators,\n",
        "               'max_features': max_features,\n",
        "               'max_depth': max_depth,\n",
        "               'min_samples_split': min_samples_split}\n",
        "\n",
        "pprint(random_grid)"
      ],
      "execution_count": 137,
      "outputs": [
        {
          "output_type": "stream",
          "text": [
            "{'max_depth': [1, 23, 45],\n",
            " 'max_features': ['auto', 'sqrt'],\n",
            " 'min_samples_split': [5, 10],\n",
            " 'n_estimators': [20, 65, 110, 155, 200]}\n"
          ],
          "name": "stdout"
        }
      ]
    },
    {
      "cell_type": "code",
      "metadata": {
        "colab": {
          "base_uri": "https://localhost:8080/"
        },
        "id": "6Xarg334J-dr",
        "outputId": "07117895-3640-48c4-ddc1-ad3f07b2350a"
      },
      "source": [
        "# Use the random grid to search for best hyperparameters\n",
        "\n",
        "# Random search of parameters, using 3 fold cross validation, \n",
        "# search across 100 different combinations, and use all available cores\n",
        "rf_random = RandomizedSearchCV(estimator = forest, param_distributions = random_grid, n_iter = 10, cv = 10, verbose=2, random_state=42, n_jobs = -1, scoring='neg_mean_squared_error')\n",
        "# Fit the random search model\n",
        "rf_random.fit(x_train, y_train)"
      ],
      "execution_count": 138,
      "outputs": [
        {
          "output_type": "stream",
          "text": [
            "Fitting 10 folds for each of 10 candidates, totalling 100 fits\n"
          ],
          "name": "stdout"
        },
        {
          "output_type": "stream",
          "text": [
            "[Parallel(n_jobs=-1)]: Using backend LokyBackend with 2 concurrent workers.\n",
            "[Parallel(n_jobs=-1)]: Done  37 tasks      | elapsed:    5.8s\n",
            "[Parallel(n_jobs=-1)]: Done 100 out of 100 | elapsed:   33.9s finished\n"
          ],
          "name": "stderr"
        },
        {
          "output_type": "execute_result",
          "data": {
            "text/plain": [
              "RandomizedSearchCV(cv=10, error_score=nan,\n",
              "                   estimator=RandomForestRegressor(bootstrap=True,\n",
              "                                                   ccp_alpha=0.0,\n",
              "                                                   criterion='mse',\n",
              "                                                   max_depth=None,\n",
              "                                                   max_features='auto',\n",
              "                                                   max_leaf_nodes=None,\n",
              "                                                   max_samples=None,\n",
              "                                                   min_impurity_decrease=0.0,\n",
              "                                                   min_impurity_split=None,\n",
              "                                                   min_samples_leaf=1,\n",
              "                                                   min_samples_split=2,\n",
              "                                                   min_weight_fraction_leaf=0.0,\n",
              "                                                   n_estimators=100, n_jobs=-1,\n",
              "                                                   oob_score=False,\n",
              "                                                   random_state=None, verbose=0,\n",
              "                                                   warm_start=False),\n",
              "                   iid='deprecated', n_iter=10, n_jobs=-1,\n",
              "                   param_distributions={'max_depth': [1, 23, 45],\n",
              "                                        'max_features': ['auto', 'sqrt'],\n",
              "                                        'min_samples_split': [5, 10],\n",
              "                                        'n_estimators': [20, 65, 110, 155,\n",
              "                                                         200]},\n",
              "                   pre_dispatch='2*n_jobs', random_state=42, refit=True,\n",
              "                   return_train_score=False, scoring='neg_mean_squared_error',\n",
              "                   verbose=2)"
            ]
          },
          "metadata": {
            "tags": []
          },
          "execution_count": 138
        }
      ]
    },
    {
      "cell_type": "code",
      "metadata": {
        "colab": {
          "base_uri": "https://localhost:8080/"
        },
        "id": "9D9UZejUJ-gu",
        "outputId": "1faeaa3b-888d-4d9d-8518-604db166a531"
      },
      "source": [
        "#now let's how the RMSE changes for each parameter configuration\n",
        "cvres2 = rf_random.cv_results_\n",
        "for mean_score, params in zip(cvres2[\"mean_test_score\"], cvres2[\"params\"]):\n",
        "    print(np.sqrt(-mean_score), params)"
      ],
      "execution_count": 139,
      "outputs": [
        {
          "output_type": "stream",
          "text": [
            "12.082733227586052 {'n_estimators': 20, 'min_samples_split': 5, 'max_features': 'auto', 'max_depth': 1}\n",
            "12.083223738629473 {'n_estimators': 20, 'min_samples_split': 10, 'max_features': 'auto', 'max_depth': 1}\n",
            "11.483181635372668 {'n_estimators': 65, 'min_samples_split': 10, 'max_features': 'sqrt', 'max_depth': 23}\n",
            "11.77894919022459 {'n_estimators': 20, 'min_samples_split': 10, 'max_features': 'auto', 'max_depth': 45}\n",
            "12.36192056802435 {'n_estimators': 155, 'min_samples_split': 5, 'max_features': 'sqrt', 'max_depth': 1}\n",
            "11.523416453454887 {'n_estimators': 200, 'min_samples_split': 5, 'max_features': 'sqrt', 'max_depth': 45}\n",
            "11.530043816197475 {'n_estimators': 155, 'min_samples_split': 5, 'max_features': 'sqrt', 'max_depth': 23}\n",
            "11.48500083346933 {'n_estimators': 155, 'min_samples_split': 10, 'max_features': 'auto', 'max_depth': 45}\n",
            "12.383130750901069 {'n_estimators': 110, 'min_samples_split': 5, 'max_features': 'sqrt', 'max_depth': 1}\n",
            "11.511404139918112 {'n_estimators': 110, 'min_samples_split': 10, 'max_features': 'sqrt', 'max_depth': 45}\n"
          ],
          "name": "stdout"
        }
      ]
    },
    {
      "cell_type": "code",
      "metadata": {
        "colab": {
          "base_uri": "https://localhost:8080/"
        },
        "id": "9_IntOihJ-i0",
        "outputId": "ad08b8f8-0c8d-4cc9-ff95-48658f80caf9"
      },
      "source": [
        "# best random model \n",
        "rf_random.best_estimator_"
      ],
      "execution_count": 140,
      "outputs": [
        {
          "output_type": "execute_result",
          "data": {
            "text/plain": [
              "RandomForestRegressor(bootstrap=True, ccp_alpha=0.0, criterion='mse',\n",
              "                      max_depth=23, max_features='sqrt', max_leaf_nodes=None,\n",
              "                      max_samples=None, min_impurity_decrease=0.0,\n",
              "                      min_impurity_split=None, min_samples_leaf=1,\n",
              "                      min_samples_split=10, min_weight_fraction_leaf=0.0,\n",
              "                      n_estimators=65, n_jobs=-1, oob_score=False,\n",
              "                      random_state=None, verbose=0, warm_start=False)"
            ]
          },
          "metadata": {
            "tags": []
          },
          "execution_count": 140
        }
      ]
    },
    {
      "cell_type": "code",
      "metadata": {
        "colab": {
          "base_uri": "https://localhost:8080/"
        },
        "id": "XI1w7XnrJ-nP",
        "outputId": "a8982c8c-20c7-4f93-bb36-64aa320cec6b"
      },
      "source": [
        "rf_random.best_params_\n"
      ],
      "execution_count": 141,
      "outputs": [
        {
          "output_type": "execute_result",
          "data": {
            "text/plain": [
              "{'max_depth': 23,\n",
              " 'max_features': 'sqrt',\n",
              " 'min_samples_split': 10,\n",
              " 'n_estimators': 65}"
            ]
          },
          "metadata": {
            "tags": []
          },
          "execution_count": 141
        }
      ]
    },
    {
      "cell_type": "code",
      "metadata": {
        "colab": {
          "base_uri": "https://localhost:8080/"
        },
        "id": "WNXpGVoxJ-tf",
        "outputId": "e984e6fe-86e3-426a-f9c4-d7601f1afb4b"
      },
      "source": [
        "# Performance metrics (MAPE)\n",
        "random_best= rf_random.best_estimator_.predict(x_train)\n",
        "errors = abs(random_best - y_train)\n",
        "# Calculate mean absolute percentage error (MAPE)\n",
        "mape = np.mean(100 * (errors / y_train))\n",
        "# Calculate and display accuracy\n",
        "accuracy = 100 - mape    \n",
        "#print result\n",
        "print('The best model from the randomized search has an accuracy of', round(accuracy, 2),'%')"
      ],
      "execution_count": 142,
      "outputs": [
        {
          "output_type": "stream",
          "text": [
            "The best model from the randomized search has an accuracy of 84.03 %\n"
          ],
          "name": "stdout"
        }
      ]
    },
    {
      "cell_type": "code",
      "metadata": {
        "colab": {
          "base_uri": "https://localhost:8080/"
        },
        "id": "bI2RnJz9J-v5",
        "outputId": "6fa91771-6f7a-4f81-9e1e-e9167214c35e"
      },
      "source": [
        "#this is the RMSE\n",
        "final_mse = mean_squared_error(y_train, random_best)\n",
        "final_rmse = np.sqrt(final_mse)\n",
        "print('The best model from the randomized search has a RMSE of', round(final_rmse, 2))"
      ],
      "execution_count": 143,
      "outputs": [
        {
          "output_type": "stream",
          "text": [
            "The best model from the randomized search has a RMSE of 7.05\n"
          ],
          "name": "stdout"
        }
      ]
    },
    {
      "cell_type": "code",
      "metadata": {
        "colab": {
          "base_uri": "https://localhost:8080/"
        },
        "id": "hRuDFwcrJ-19",
        "outputId": "a2712937-0dbc-472d-a4c8-1d73a8adc085"
      },
      "source": [
        "# extract the numerical values of feature importance from the grid search\n",
        "importances = rf_random.best_estimator_.feature_importances_\n",
        "\n",
        "#create a feature list from the original dataset (list of columns)\n",
        "# What are this numbers? Let's get back to the columns of the original dataset\n",
        "feature_list = list(X.columns)\n",
        "\n",
        "#create a list of tuples\n",
        "feature_importance= sorted(zip(importances, feature_list), reverse=True)\n",
        "\n",
        "#create two lists from the previous list of tuples\n",
        "df = pd.DataFrame(feature_importance, columns=['importance', 'feature'])\n",
        "importance= list(df['importance'])\n",
        "feature= list(df['feature'])\n",
        "\n",
        "#see df\n",
        "print(df)"
      ],
      "execution_count": 144,
      "outputs": [
        {
          "output_type": "stream",
          "text": [
            "   importance             feature\n",
            "0    0.151555             innings\n",
            "1    0.137171                  ID\n",
            "2    0.105590                  SR\n",
            "3    0.100356             economy\n",
            "4    0.099443                 _4s\n",
            "5    0.087640             wickets\n",
            "6    0.087347                 avg\n",
            "7    0.085151                runs\n",
            "8    0.085137                  BF\n",
            "9    0.060610  venue_highest_runs\n"
          ],
          "name": "stdout"
        }
      ]
    },
    {
      "cell_type": "code",
      "metadata": {
        "colab": {
          "base_uri": "https://localhost:8080/",
          "height": 712
        },
        "id": "5MnaSa3u9fzK",
        "outputId": "bbfa05ca-ef7c-4950-da97-e5a3ec6eb372"
      },
      "source": [
        "# Set the style\n",
        "plt.style.use('bmh')\n",
        "# list of x locations for plotting\n",
        "x_values = list(range(len(feature_importance)))\n",
        "\n",
        "# Make a bar chart\n",
        "plt.figure(figsize=(15,10))\n",
        "plt.bar(x_values, importance, orientation = 'vertical')\n",
        "# Tick labels for x axis\n",
        "plt.xticks(x_values, feature, rotation='vertical')\n",
        "# Axis labels and title\n",
        "plt.ylabel('Importance'); plt.xlabel('Variable'); plt.title('Variable Importances');"
      ],
      "execution_count": 145,
      "outputs": [
        {
          "output_type": "display_data",
          "data": {
            "image/png": "[encoded data removed]",
            "text/plain": [
              "<Figure size 1080x720 with 1 Axes>"
            ]
          },
          "metadata": {
            "tags": [],
            "needs_background": "light"
          }
        }
      ]
    },
    {
      "cell_type": "code",
      "metadata": {
        "colab": {
          "base_uri": "https://localhost:8080/"
        },
        "id": "9ajTgf7gMGW4",
        "outputId": "3c2e0822-68fb-4c2d-e2d8-8441eafa98c3"
      },
      "source": [
        "final_model = rf_random.best_estimator_\n",
        "# Predicting test set results\n",
        "final_pred = final_model.predict(x_test)\n",
        "final_mse = mean_squared_error(y_test, final_pred)\n",
        "final_rmse = np.sqrt(final_mse)\n",
        "print('The final RMSE on the test set is', round(final_rmse, 2))"
      ],
      "execution_count": 146,
      "outputs": [
        {
          "output_type": "stream",
          "text": [
            "The final RMSE on the test set is 11.25\n"
          ],
          "name": "stdout"
        }
      ]
    },
    {
      "cell_type": "code",
      "metadata": {
        "colab": {
          "base_uri": "https://localhost:8080/"
        },
        "id": "rwM4XnsPMGmn",
        "outputId": "37065fdd-03c3-4ad7-b2dc-6d66a08c6004"
      },
      "source": [
        "#calculate accuracy\n",
        "errors = abs(final_pred - y_test)\n",
        "# Calculate mean absolute percentage error (MAPE)\n",
        "mape = np.mean(100 * (errors / y_test))\n",
        "# Calculate and display accuracy\n",
        "accuracy = 100 - mape    \n",
        "#print result\n",
        "print('The best model achieves on the test set an accuracy of', round(accuracy, 2),'%')"
      ],
      "execution_count": 147,
      "outputs": [
        {
          "output_type": "stream",
          "text": [
            "The best model achieves on the test set an accuracy of 76.4 %\n"
          ],
          "name": "stdout"
        }
      ]
    },
    {
      "cell_type": "code",
      "metadata": {
        "colab": {
          "base_uri": "https://localhost:8080/",
          "height": 296
        },
        "id": "LkkGvdz5MMJI",
        "outputId": "74b0cb87-fae8-4699-866e-79564dbefdc6"
      },
      "source": [
        "max_depths = np.linspace(1, 50, 50, endpoint=True)\n",
        "\n",
        "train_results = []\n",
        "test_results = []\n",
        "\n",
        "for i in max_depths:\n",
        "    dt = RandomForestRegressor(max_depth=i)\n",
        "    dt.fit(x_train, y_train)    \n",
        "    #compute accuracy for train data\n",
        "    score_tree = dt.predict(x_train)\n",
        "    errors = abs(score_tree - y_train)\n",
        "    # Calculate mean absolute percentage error (MAPE)\n",
        "    mape = 100 * (errors / y_train)\n",
        "    # Calculate and display accuracy\n",
        "    accuracy = 100 - np.mean(mape)\n",
        "    #append results of accuracy\n",
        "    train_results.append(accuracy)\n",
        "    \n",
        "    #now again for test data\n",
        "    score_tree = dt.predict(x_test)\n",
        "    errors = abs(score_tree - y_test)\n",
        "    # Calculate mean absolute percentage error (MAPE)\n",
        "    mape = 100 * (errors / y_test)\n",
        "    # Calculate and display accuracy\n",
        "    accuracy = 100 - np.mean(mape)\n",
        "    #append results of accuracy\n",
        "    test_results.append(accuracy)\n",
        "    \n",
        "from matplotlib.legend_handler import HandlerLine2D\n",
        "line1, = plt.plot(max_depths, train_results, 'b', label='Train accuracy')\n",
        "line2, = plt.plot(max_depths, test_results, 'r', label= 'Test accuracy')\n",
        "\n",
        "plt.legend(handler_map={line1: HandlerLine2D(numpoints=2)})\n",
        "plt.ylabel('Accuracy score')\n",
        "plt.xlabel('Tree depth')"
      ],
      "execution_count": 149,
      "outputs": [
        {
          "output_type": "execute_result",
          "data": {
            "text/plain": [
              "Text(0.5, 0, 'Tree depth')"
            ]
          },
          "metadata": {
            "tags": []
          },
          "execution_count": 149
        },
        {
          "output_type": "display_data",
          "data": {
            "image/png": "[encoded data removed]",
            "text/plain": [
              "<Figure size 432x288 with 1 Axes>"
            ]
          },
          "metadata": {
            "tags": [],
            "needs_background": "light"
          }
        }
      ]
    },
    {
      "cell_type": "code",
      "metadata": {
        "id": "jxdPz6fgbyjo"
      },
      "source": [
        ""
      ],
      "execution_count": null,
      "outputs": []
    }
  ]
}